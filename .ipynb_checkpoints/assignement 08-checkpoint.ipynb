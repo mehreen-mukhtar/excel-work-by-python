{
 "cells": [
  {
   "cell_type": "code",
   "execution_count": 3,
   "id": "11c79ba8-e827-4ab8-b3bc-49951532b4f7",
   "metadata": {},
   "outputs": [],
   "source": [
    "#import laibrary \n",
    "import csv"
   ]
  },
  {
   "cell_type": "code",
   "execution_count": 5,
   "id": "03f8d285-8fc4-44a0-b66d-ce2cc88c4922",
   "metadata": {},
   "outputs": [
    {
     "data": {
      "text/plain": [
       "['Dialect',\n",
       " 'DictReader',\n",
       " 'DictWriter',\n",
       " 'Error',\n",
       " 'QUOTE_ALL',\n",
       " 'QUOTE_MINIMAL',\n",
       " 'QUOTE_NONE',\n",
       " 'QUOTE_NONNUMERIC',\n",
       " 'QUOTE_NOTNULL',\n",
       " 'QUOTE_STRINGS',\n",
       " 'Sniffer',\n",
       " 'StringIO',\n",
       " '_Dialect',\n",
       " '__all__',\n",
       " '__builtins__',\n",
       " '__cached__',\n",
       " '__doc__',\n",
       " '__file__',\n",
       " '__loader__',\n",
       " '__name__',\n",
       " '__package__',\n",
       " '__spec__',\n",
       " '__version__',\n",
       " 'excel',\n",
       " 'excel_tab',\n",
       " 'field_size_limit',\n",
       " 'get_dialect',\n",
       " 'list_dialects',\n",
       " 're',\n",
       " 'reader',\n",
       " 'register_dialect',\n",
       " 'types',\n",
       " 'unix_dialect',\n",
       " 'unregister_dialect',\n",
       " 'writer']"
      ]
     },
     "execution_count": 5,
     "metadata": {},
     "output_type": "execute_result"
    }
   ],
   "source": [
    "dir(csv)"
   ]
  },
  {
   "cell_type": "code",
   "execution_count": 21,
   "id": "5aaa6d53-ab47-4be7-8f48-992f93912c93",
   "metadata": {},
   "outputs": [
    {
     "data": {
      "text/plain": [
       "<_io.TextIOWrapper name='student data.csv' mode='r' encoding='cp1252'>"
      ]
     },
     "execution_count": 21,
     "metadata": {},
     "output_type": "execute_result"
    }
   ],
   "source": [
    "open_file = open(\"student data.csv\" , mode = \"r\")\n",
    "open_file"
   ]
  },
  {
   "cell_type": "code",
   "execution_count": 23,
   "id": "3b8aa497-7f28-4ed3-a083-1e905a6eb79f",
   "metadata": {},
   "outputs": [
    {
     "data": {
      "text/plain": [
       "<_csv.reader at 0x1d4b9cbb460>"
      ]
     },
     "execution_count": 23,
     "metadata": {},
     "output_type": "execute_result"
    }
   ],
   "source": [
    "read_file = csv.reader(open_file)\n",
    "read_file"
   ]
  },
  {
   "cell_type": "code",
   "execution_count": 25,
   "id": "83a69b97-1b97-4c64-a869-6a746cf4c7e9",
   "metadata": {},
   "outputs": [
    {
     "data": {
      "text/plain": [
       "[['roll no', 'Name', 'Chemistry', 'Physics', 'Math'],\n",
       " ['101', 'Aliza', '50', '23', '87'],\n",
       " ['102', 'Fareed', '45', '24', '88'],\n",
       " ['103', 'Basit', '46', '25', '89'],\n",
       " ['104', 'Abdullah', '47', '26', '90'],\n",
       " ['105', 'Ali', '48', '27', '67'],\n",
       " ['106', 'Mubashir', '49', '28', '68'],\n",
       " ['107', 'Waleed', '50', '29', '69'],\n",
       " ['108', 'Mansoor', '51', '30', '70'],\n",
       " ['109', 'Zain', '52', '31', '71'],\n",
       " ['110', 'Mohsin', '53', '67', '72'],\n",
       " ['111', 'Shahmeer', '54', '68', '73'],\n",
       " ['112', 'Rao', '55', '69', '74'],\n",
       " ['113', 'Aurangzeb', '56', '70', '75'],\n",
       " ['114', 'Zeeshan', '57', '71', '76'],\n",
       " ['115', 'Hamna', '58', '72', '77'],\n",
       " ['116', 'Hamza', '59', '73', '78'],\n",
       " ['117', 'Khalid', '60', '74', '79'],\n",
       " ['118', 'Behroz', '61', '75', '80'],\n",
       " ['119', 'Justin', '62', '76', '81'],\n",
       " ['120', 'Danish', '63', '77', '82'],\n",
       " ['121', 'Kainat', '64', '78', '83'],\n",
       " ['122', 'Sameer', '65', '79', '84'],\n",
       " ['123', 'Raza', '66', '80', '85'],\n",
       " ['124', 'Kumar', '67', '81', '86'],\n",
       " ['125', 'Komal', '68', '82', '87'],\n",
       " ['126', 'Erum', '69', '83', '88'],\n",
       " ['127', 'Faiza', '70', '84', '89'],\n",
       " ['128', 'Saeed', '71', '85', '90'],\n",
       " ['129', 'Waqar', '72', '86', '91'],\n",
       " ['130', 'Wali', '73', '87', '92'],\n",
       " ['131', 'Wajid', '74', '88', '93'],\n",
       " ['132', 'Waseeb', '75', '89', '94'],\n",
       " ['133', 'Shiza', '76', '90', '95'],\n",
       " ['134', 'Shabina', '77', '91', '96'],\n",
       " ['135', 'Shazain', '78', '55', '97'],\n",
       " ['136', 'Lubna', '79', '61', '98'],\n",
       " ['137', 'Laiba', '80', '88', '78'],\n",
       " ['138', 'Khursheed', '81', '56', '45'],\n",
       " ['139', 'Ali', '82', '89', '46'],\n",
       " ['140', 'Aiza', '83', '45', '89'],\n",
       " ['141', 'Aiman', '84', '92', '78'],\n",
       " ['142', 'Yasmeen', '85', '36', '56'],\n",
       " ['143', 'Tasbeel', '86', '78', '78'],\n",
       " ['144', 'Laraib', '87', '56', '54'],\n",
       " ['145', 'Saleem', '88', '78', '78'],\n",
       " ['146', 'Bismil', '89', '89', '46'],\n",
       " ['147', 'Batool', '90', '56', '79'],\n",
       " ['148', 'Iqra', '91', '33', '46'],\n",
       " ['149', 'Zarnish', '92', '78', '45'],\n",
       " ['150', 'Zara', '83', '45', '56']]"
      ]
     },
     "execution_count": 25,
     "metadata": {},
     "output_type": "execute_result"
    }
   ],
   "source": [
    "data = list(read_file)\n",
    "data"
   ]
  },
  {
   "cell_type": "code",
   "execution_count": 27,
   "id": "25cee20d-d775-4559-9d77-59cc9efb05af",
   "metadata": {},
   "outputs": [
    {
     "data": {
      "text/plain": [
       "['roll no', 'Name', 'Chemistry', 'Physics', 'Math']"
      ]
     },
     "execution_count": 27,
     "metadata": {},
     "output_type": "execute_result"
    }
   ],
   "source": [
    "header = data[0]\n",
    "header"
   ]
  },
  {
   "cell_type": "code",
   "execution_count": 29,
   "id": "38ca2629-3ccf-4f88-b2ec-57678034d313",
   "metadata": {},
   "outputs": [
    {
     "data": {
      "text/plain": [
       "[['roll no', 'Name', 'Chemistry', 'Physics', 'Math'],\n",
       " ['101', 'Aliza', '50', '23', '87'],\n",
       " ['102', 'Fareed', '45', '24', '88'],\n",
       " ['103', 'Basit', '46', '25', '89'],\n",
       " ['104', 'Abdullah', '47', '26', '90'],\n",
       " ['105', 'Ali', '48', '27', '67'],\n",
       " ['106', 'Mubashir', '49', '28', '68'],\n",
       " ['107', 'Waleed', '50', '29', '69'],\n",
       " ['108', 'Mansoor', '51', '30', '70'],\n",
       " ['109', 'Zain', '52', '31', '71'],\n",
       " ['110', 'Mohsin', '53', '67', '72'],\n",
       " ['111', 'Shahmeer', '54', '68', '73'],\n",
       " ['112', 'Rao', '55', '69', '74'],\n",
       " ['113', 'Aurangzeb', '56', '70', '75'],\n",
       " ['114', 'Zeeshan', '57', '71', '76'],\n",
       " ['115', 'Hamna', '58', '72', '77'],\n",
       " ['116', 'Hamza', '59', '73', '78'],\n",
       " ['117', 'Khalid', '60', '74', '79'],\n",
       " ['118', 'Behroz', '61', '75', '80'],\n",
       " ['119', 'Justin', '62', '76', '81'],\n",
       " ['120', 'Danish', '63', '77', '82'],\n",
       " ['121', 'Kainat', '64', '78', '83'],\n",
       " ['122', 'Sameer', '65', '79', '84'],\n",
       " ['123', 'Raza', '66', '80', '85'],\n",
       " ['124', 'Kumar', '67', '81', '86'],\n",
       " ['125', 'Komal', '68', '82', '87'],\n",
       " ['126', 'Erum', '69', '83', '88'],\n",
       " ['127', 'Faiza', '70', '84', '89'],\n",
       " ['128', 'Saeed', '71', '85', '90'],\n",
       " ['129', 'Waqar', '72', '86', '91'],\n",
       " ['130', 'Wali', '73', '87', '92'],\n",
       " ['131', 'Wajid', '74', '88', '93'],\n",
       " ['132', 'Waseeb', '75', '89', '94'],\n",
       " ['133', 'Shiza', '76', '90', '95'],\n",
       " ['134', 'Shabina', '77', '91', '96'],\n",
       " ['135', 'Shazain', '78', '55', '97'],\n",
       " ['136', 'Lubna', '79', '61', '98'],\n",
       " ['137', 'Laiba', '80', '88', '78'],\n",
       " ['138', 'Khursheed', '81', '56', '45'],\n",
       " ['139', 'Ali', '82', '89', '46'],\n",
       " ['140', 'Aiza', '83', '45', '89'],\n",
       " ['141', 'Aiman', '84', '92', '78'],\n",
       " ['142', 'Yasmeen', '85', '36', '56'],\n",
       " ['143', 'Tasbeel', '86', '78', '78'],\n",
       " ['144', 'Laraib', '87', '56', '54'],\n",
       " ['145', 'Saleem', '88', '78', '78'],\n",
       " ['146', 'Bismil', '89', '89', '46'],\n",
       " ['147', 'Batool', '90', '56', '79'],\n",
       " ['148', 'Iqra', '91', '33', '46'],\n",
       " ['149', 'Zarnish', '92', '78', '45'],\n",
       " ['150', 'Zara', '83', '45', '56']]"
      ]
     },
     "execution_count": 29,
     "metadata": {},
     "output_type": "execute_result"
    }
   ],
   "source": [
    "student_data = data[:]\n",
    "student_data"
   ]
  },
  {
   "cell_type": "code",
   "execution_count": null,
   "id": "7047e2f6-d7a6-489a-bc75-f10b4c26f128",
   "metadata": {},
   "outputs": [],
   "source": []
  }
 ],
 "metadata": {
  "kernelspec": {
   "display_name": "Python 3 (ipykernel)",
   "language": "python",
   "name": "python3"
  },
  "language_info": {
   "codemirror_mode": {
    "name": "ipython",
    "version": 3
   },
   "file_extension": ".py",
   "mimetype": "text/x-python",
   "name": "python",
   "nbconvert_exporter": "python",
   "pygments_lexer": "ipython3",
   "version": "3.12.4"
  }
 },
 "nbformat": 4,
 "nbformat_minor": 5
}
